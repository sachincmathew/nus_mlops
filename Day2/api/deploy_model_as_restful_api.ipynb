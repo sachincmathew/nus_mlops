{
 "cells": [
  {
   "cell_type": "markdown",
   "metadata": {},
   "source": [
    "# Building and Deploying a Machine Learning Model with FastAPI\n",
    "\n",
    "---\n",
    "\n",
    "In this tutorial, we'll be building a simple API using Python libraries like Scikit-learn (for machine learning), Joblib (for saving the model), FastAPI (for building the API), and Uvicorn (to run the API).  We'll use a classic dataset  - breast cancer diagnosis - to train a model and then see how to use our API to make predictions on new data.\n",
    "\n",
    "## Step 1: Environment Setup\n",
    "First, ensure you have Python installed on your system. Then, install the necessary libraries:"
   ]
  },
  {
   "cell_type": "code",
   "execution_count": 1,
   "metadata": {},
   "outputs": [
    {
     "name": "stdout",
     "output_type": "stream",
     "text": [
      "Requirement already satisfied: numpy in c:\\users\\sachin\\appdata\\local\\programs\\python\\python312\\lib\\site-packages (1.26.4)\n",
      "Requirement already satisfied: pandas in c:\\users\\sachin\\appdata\\local\\programs\\python\\python312\\lib\\site-packages (2.2.2)\n",
      "Requirement already satisfied: scikit-learn in c:\\users\\sachin\\appdata\\local\\programs\\python\\python312\\lib\\site-packages (1.4.2)\n",
      "Requirement already satisfied: fastapi in c:\\users\\sachin\\appdata\\local\\programs\\python\\python312\\lib\\site-packages (0.110.2)\n",
      "Requirement already satisfied: uvicorn in c:\\users\\sachin\\appdata\\local\\programs\\python\\python312\\lib\\site-packages (0.29.0)\n",
      "Requirement already satisfied: joblib in c:\\users\\sachin\\appdata\\local\\programs\\python\\python312\\lib\\site-packages (1.4.0)\n",
      "Requirement already satisfied: python-dateutil>=2.8.2 in c:\\users\\sachin\\appdata\\roaming\\python\\python312\\site-packages (from pandas) (2.9.0.post0)\n",
      "Requirement already satisfied: pytz>=2020.1 in c:\\users\\sachin\\appdata\\local\\programs\\python\\python312\\lib\\site-packages (from pandas) (2024.1)\n",
      "Requirement already satisfied: tzdata>=2022.7 in c:\\users\\sachin\\appdata\\local\\programs\\python\\python312\\lib\\site-packages (from pandas) (2024.1)\n",
      "Requirement already satisfied: scipy>=1.6.0 in c:\\users\\sachin\\appdata\\local\\programs\\python\\python312\\lib\\site-packages (from scikit-learn) (1.13.0)\n",
      "Requirement already satisfied: threadpoolctl>=2.0.0 in c:\\users\\sachin\\appdata\\local\\programs\\python\\python312\\lib\\site-packages (from scikit-learn) (3.4.0)\n",
      "Requirement already satisfied: pydantic!=1.8,!=1.8.1,!=2.0.0,!=2.0.1,!=2.1.0,<3.0.0,>=1.7.4 in c:\\users\\sachin\\appdata\\local\\programs\\python\\python312\\lib\\site-packages (from fastapi) (2.7.1)\n",
      "Requirement already satisfied: starlette<0.38.0,>=0.37.2 in c:\\users\\sachin\\appdata\\local\\programs\\python\\python312\\lib\\site-packages (from fastapi) (0.37.2)\n",
      "Requirement already satisfied: typing-extensions>=4.8.0 in c:\\users\\sachin\\appdata\\local\\programs\\python\\python312\\lib\\site-packages (from fastapi) (4.11.0)\n",
      "Requirement already satisfied: click>=7.0 in c:\\users\\sachin\\appdata\\local\\programs\\python\\python312\\lib\\site-packages (from uvicorn) (8.1.7)\n",
      "Requirement already satisfied: h11>=0.8 in c:\\users\\sachin\\appdata\\local\\programs\\python\\python312\\lib\\site-packages (from uvicorn) (0.14.0)\n",
      "Requirement already satisfied: colorama in c:\\users\\sachin\\appdata\\roaming\\python\\python312\\site-packages (from click>=7.0->uvicorn) (0.4.6)\n",
      "Requirement already satisfied: annotated-types>=0.4.0 in c:\\users\\sachin\\appdata\\local\\programs\\python\\python312\\lib\\site-packages (from pydantic!=1.8,!=1.8.1,!=2.0.0,!=2.0.1,!=2.1.0,<3.0.0,>=1.7.4->fastapi) (0.6.0)\n",
      "Requirement already satisfied: pydantic-core==2.18.2 in c:\\users\\sachin\\appdata\\local\\programs\\python\\python312\\lib\\site-packages (from pydantic!=1.8,!=1.8.1,!=2.0.0,!=2.0.1,!=2.1.0,<3.0.0,>=1.7.4->fastapi) (2.18.2)\n",
      "Requirement already satisfied: six>=1.5 in c:\\users\\sachin\\appdata\\roaming\\python\\python312\\site-packages (from python-dateutil>=2.8.2->pandas) (1.16.0)\n",
      "Requirement already satisfied: anyio<5,>=3.4.0 in c:\\users\\sachin\\appdata\\local\\programs\\python\\python312\\lib\\site-packages (from starlette<0.38.0,>=0.37.2->fastapi) (4.3.0)\n",
      "Requirement already satisfied: idna>=2.8 in c:\\users\\sachin\\appdata\\local\\programs\\python\\python312\\lib\\site-packages (from anyio<5,>=3.4.0->starlette<0.38.0,>=0.37.2->fastapi) (3.7)\n",
      "Requirement already satisfied: sniffio>=1.1 in c:\\users\\sachin\\appdata\\local\\programs\\python\\python312\\lib\\site-packages (from anyio<5,>=3.4.0->starlette<0.38.0,>=0.37.2->fastapi) (1.3.1)\n",
      "Note: you may need to restart the kernel to use updated packages.\n"
     ]
    }
   ],
   "source": [
    "pip install numpy pandas scikit-learn fastapi uvicorn joblib"
   ]
  },
  {
   "cell_type": "markdown",
   "metadata": {},
   "source": [
    "## Step 2: Prepare and Train the Model\n",
    "We'll use the Breast Cancer dataset provided by Scikit-learn and train a simple logistic regression model."
   ]
  },
  {
   "cell_type": "code",
   "execution_count": 3,
   "metadata": {},
   "outputs": [
    {
     "name": "stdout",
     "output_type": "stream",
     "text": [
      "Overwriting ml.py\n"
     ]
    }
   ],
   "source": [
    "%%writefile ml.py\n",
    "# This code will be written to the 'ml.py' file\n",
    "\n",
    "from sklearn.datasets import load_breast_cancer\n",
    "from sklearn.model_selection import train_test_split\n",
    "from sklearn.linear_model import LogisticRegression\n",
    "from sklearn.preprocessing import StandardScaler\n",
    "from joblib import dump\n",
    "\n",
    "# Load the dataset\n",
    "data = load_breast_cancer()\n",
    "X = data.data\n",
    "y = data.target\n",
    "\n",
    "# Split the data into training and testing sets\n",
    "X_train, X_test, y_train, y_test = train_test_split(X, y, test_size=0.2, random_state=42)\n",
    "\n",
    "# Standardize the features\n",
    "scaler = StandardScaler()\n",
    "X_train_scaled = scaler.fit_transform(X_train)\n",
    "X_test_scaled = scaler.transform(X_test)\n",
    "\n",
    "# Train the model\n",
    "model = LogisticRegression()\n",
    "model.fit(X_train_scaled, y_train)\n",
    "\n",
    "# Save the model and scaler\n",
    "dump(model, 'breast_cancer_model.joblib')\n",
    "dump(scaler, 'scaler.joblib')\n",
    "print(\"Successfuly saved the model and scaler joblib files..\")"
   ]
  },
  {
   "cell_type": "markdown",
   "metadata": {},
   "source": [
    "Run the following cell, and you should see `Successfuly saved the model and scaler joblib files.` message printed below the cell, indicating you've successfully executed all your machine learning codes in the `ml.py` file."
   ]
  },
  {
   "cell_type": "code",
   "execution_count": 12,
   "metadata": {},
   "outputs": [
    {
     "name": "stdout",
     "output_type": "stream",
     "text": [
      "Successfuly saved the model and scaler joblib files.\n"
     ]
    }
   ],
   "source": [
    "%run ml.py"
   ]
  },
  {
   "cell_type": "markdown",
   "metadata": {},
   "source": [
    "## Step 3: Setting Up FastAPI\n",
    "Create a new Python file for the API server. We'll use FastAPI to set up endpoints that can receive new data and make predictions."
   ]
  },
  {
   "cell_type": "code",
   "execution_count": 44,
   "metadata": {},
   "outputs": [
    {
     "name": "stdout",
     "output_type": "stream",
     "text": [
      "Overwriting main.py\n"
     ]
    }
   ],
   "source": [
    "%%writefile main.py\n",
    "from fastapi import FastAPI, HTTPException  # Import necessary components from FastAPI and HTTPException for error handling.\n",
    "from pydantic import BaseModel  # Import BaseModel from Pydantic to define data models.\n",
    "from typing import List  # Import List from typing to specify data types in data models.\n",
    "from joblib import load  # Import load function from joblib to load pre-trained models.\n",
    "import datetime\n",
    "\n",
    "app = FastAPI()  # Create an instance of FastAPI to define and manage your web application.\n",
    "\n",
    "# Load pre-trained model and scaler objects from disk. These are used for making predictions and scaling input data, respectively.\n",
    "model = load('breast_cancer_model.joblib')\n",
    "scaler = load('scaler.joblib')\n",
    "\n",
    "# Define a data model for incoming prediction requests using Pydantic.\n",
    "# This model ensures that data received via the API matches the expected format.\n",
    "class QueryData(BaseModel):\n",
    "    features: List[float]  # Define a list of floating point numbers to represent input features for prediction.\n",
    "\n",
    "\n",
    "@app.get(\"/\")\n",
    "async def read_root():\n",
    "    # Get the current date and time\n",
    "    now = datetime.datetime.now()\n",
    "\n",
    "    # Format the date and time according to your preference\n",
    "    formatted_datetime = now.strftime(\"%d-%m-%Y %H:%M:%S\")  # Example format (YYYY-MM-DD HH:MM:SS)\n",
    "\n",
    "    # Print the formatted date and time\n",
    "    return f\"Hello, it is now {formatted_datetime}\"\n",
    "\n",
    "# Decorator to create a new route that accepts POST requests at the \"/predict/\" URL.\n",
    "# This endpoint will be used to receive input data and return model predictions.\n",
    "# Declaring async before a function definition is a way to handle asynchronous operations in FastAPI. \n",
    "# It allows the server to handle many requests efficiently by not blocking the server during operations \n",
    "# like network calls or while waiting for file I/O.\n",
    "@app.post(\"/predict/\")\n",
    "async def make_prediction(query: QueryData):\n",
    "    try:\n",
    "        # The input data is received as a list of floats, which needs to be scaled (normalized) using the previously loaded scaler.\n",
    "        scaled_features = scaler.transform([query.features])\n",
    "        \n",
    "        # Use the scaled features to make a prediction using the loaded model.\n",
    "        # The model returns a list of predictions, and we take the first item since we expect only one.\n",
    "        prediction = model.predict(scaled_features)\n",
    "        \n",
    "        # Return the prediction as a JSON object. This makes it easy to handle the response programmatically on the client side.\n",
    "        return {\"prediction\": int(prediction[0])}\n",
    "    except Exception as e:\n",
    "        # If an error occurs during the prediction process, raise an HTTPException which will be sent back to the client.\n",
    "        raise HTTPException(status_code=400, detail=str(e))\n"
   ]
  },
  {
   "cell_type": "markdown",
   "metadata": {},
   "source": [
    "#### REST (REpresentational State Transfer) in APIs\n",
    "\n",
    "Imagine a restaurant (your API) serving data (the food). REST provides a set of guidelines for how to order and receive that data using standard HTTP methods (like placing an order):\n",
    "\n",
    "* **GET:** Retrieve data\n",
    "* **POST:** Create new data\n",
    "* **PUT:** Update existing data\n",
    "* **DELETE:** Remove data\n",
    "\n",
    "#### RESTful APIs\n",
    "\n",
    "A RESTful API adheres to these REST principles, making it a well-structured and widely adopted approach for building web APIs. It ensures your API is:\n",
    "\n",
    "* **Client-Server:** Separates data providers (servers) from data consumers (clients). Data engineers design and maintain the server side, while other applications or tools can easily interact with it using the API.\n",
    "* **Stateless:** Each request-response pair is independent, meaning the server doesn't need to remember past interactions for each request. This simplifies data engineering on the server side.\n",
    "* **Standard Interface:** Uses HTTP verbs (GET, POST, PUT, DELETE) and common data formats (like JSON) for clear communication. This standardization makes it easier for other applications (and data engineers!) to understand and use your API.\n",
    "\n",
    "\n",
    "**Real-World Example (Data Engineering):**\n",
    "\n",
    "Suppose you have a data pipeline that pulls data from a database (server). It can use a RESTful API to:\n",
    "- **GET:** Retrieve specific data sets using well-defined endpoints (URLs) with parameters.\n",
    "- **POST:** Send new data entries to the database.\n",
    "- **PUT:** Update existing records in the database.\n",
    "\n",
    "#### FastAPI\n",
    "FastAPI is a modern, fast (high-performance) web framework for building APIs with Python 3.7 or newer that are based on standard Python type hints. Type hints in Python allow developers to indicate the expected data types of function arguments and return values, improving code readability and facilitating error checking with tools.\n",
    "\n",
    "Its key features include:\n",
    "* **Automatic API documentation**: FastAPI automatically generates documentation (using Swagger UI and ReDoc) for your API from your Python code. This feature can be incredibly useful for both development and consumption of your API. No additional configuration is required to enable basic Swagger documentation in FastAPI by default. Access it at http://127.0.0.1:8000/docs after running the application. Swagger is an interactive API documentation tool that lets you explore and test APIs visually.\n",
    "* **Type checking and validation**: By leveraging Python type hints, FastAPI provides automatic request validation and type conversions, reducing the amount of boilerplate code for parsing and validating input data.\n",
    "* **Asynchronous support**: FastAPI is designed to be asynchronous from the ground up, which can lead to better performance under load, especially for I/O bound applications. This is a more advanced feature that may not be initially of concern for beginners but is valuable for building scalable applications."
   ]
  },
  {
   "cell_type": "markdown",
   "metadata": {},
   "source": [
    "## Step 4: Run the FastAPI API Server\n",
    "\n",
    "* The `--reload` flag makes the server restart after code changes. **Not for production use**, but very useful for development.\n",
    "* Visit http://127.0.0.1:8000 in your web browser. You should see the message `\"Hello, it is now 2024-04-05 15:10:41\"`.\n",
    "\n",
    "* Launch the Terminal in VS Code. After that, run your app using `Uvicorn` by typing the following command at the prompt in the Terminal window:\n",
    "```bash\n",
    "        uvicorn main:app --reload\n",
    "```\n",
    "\n",
    "* `main`: This is the name of the Python module (a .py file without the extension) where your FastAPI application is defined. For example, if your FastAPI application is written inside a file named `main.py`, you would use `main` here.\n",
    "* `app`: This is the variable name of the FastAPI application instance within that module. In a FastAPI application, you typically create the app with a line like `app = FastAPI()`. The `app` after the colon refers to this instance.\n",
    "\n",
    "#### Uvicorn & FastAPI\n",
    "Uvicorn is an ASGI (Asynchronous Server Gateway Interface) server implementation, written in Python. ASGI is a standard interface between web servers and web applications or frameworks for Python. It is designed to provide a standard way to build asynchronous applications in Python and to connect them with web servers.\n",
    "\n",
    "Uvicorn serves as the link between the web and FastAPI, enabling the framework to operate on the web by handling incoming HTTP requests and sending responses. Its asynchronous nature boosts FastAPI's performance, making the duo a powerful toolkit for developing modern web applications and APIs.\n",
    "\n",
    "* Uvicorn allows FastAPI to run asynchronously, handling multiple requests concurrently. \n",
    "* Uvicorn is lightning fast. It is designed to be efficient and to take advantage of modern CPUs. This complements FastAPI's performance, making the combination of the two an excellent choice for applications requiring high throughput.\n",
    "\n",
    "Configuring Uvicorn for production differs significantly from setting it up for development. In development, convenience features like auto-reload are prioritized, while in production, stability, security, and performance take precedence. \n",
    "* In development, you often run Uvicorn with the --reload flag to automatically restart the server upon changes to the code, enhancing productivity. \n",
    "* For production systems, the automatic reload feature provided by Uvicorn with the `--reload` flag should **not** be used. \n",
    "  * The auto-reload feature is designed for development purposes to increase productivity by automatically restarting the server when code changes are detected. However, in a production environment, this feature could lead to instability and unnecessary downtime, as any change to the codebase would restart the server, potentially interrupting active connections and requests. Auto-reloading introduces overhead because the server needs to monitor file changes constantly. In a production environment, the additional overhead from watching for file changes can detract from the application's performance.\n",
    "  * To configure Uvicorn for production, you should **remove** the `--reload` flag and follow best practices for stability and performance. If you're using Uvicorn directly, simply **omit** the `--reload` option when starting the server: `uvicorn main:app`\n"
   ]
  },
  {
   "cell_type": "markdown",
   "metadata": {},
   "source": [
    "## Step 5: Testing the API Using Python\n",
    "First, ensure you have the requests library installed:"
   ]
  },
  {
   "cell_type": "code",
   "execution_count": null,
   "metadata": {},
   "outputs": [],
   "source": [
    "pip install requests"
   ]
  },
  {
   "cell_type": "markdown",
   "metadata": {},
   "source": [
    "Now, create a Python script (test_api.py) to send POST requests with dummy data to your API:"
   ]
  },
  {
   "cell_type": "code",
   "execution_count": 19,
   "metadata": {},
   "outputs": [
    {
     "name": "stdout",
     "output_type": "stream",
     "text": [
      "Overwriting test_api.py\n"
     ]
    }
   ],
   "source": [
    "%%writefile test_api.py\n",
    "import requests\n",
    "import json\n",
    "\n",
    "# Define the API endpoint\n",
    "url = \"http://127.0.0.1:8000/predict/\"\n",
    "\n",
    "# Sample data with 30 dummy feature values\n",
    "data = {\n",
    "    \"features\": [\n",
    "        1.799e+01, 1.038e+01, 1.228e+02, 1.001e+03, 1.184e-01, 2.776e-01, 3.001e-01, \n",
    "        1.471e-01, 2.419e-01, 7.871e-02, 1.095e+00, 9.053e-01, 8.589e+00, 1.534e+02, \n",
    "        6.399e-03, 4.904e-02, 5.373e-02, 1.587e-02, 3.003e-02, 6.193e-03, 2.538e+01, \n",
    "        1.733e+01, 1.846e+02, 2.019e+03, 1.622e-01, 6.656e-01, 7.119e-01, 2.654e-01, \n",
    "        4.601e-01, 1.189e-01\n",
    "    ]\n",
    "}\n",
    "\n",
    "# Send a POST request\n",
    "response = requests.post(url, json=data)\n",
    "\n",
    "# Print the response\n",
    "print(\"Status Code:\", response.status_code)\n",
    "print(\"Response Body:\", response.json())\n"
   ]
  },
  {
   "cell_type": "code",
   "execution_count": 45,
   "metadata": {},
   "outputs": [
    {
     "name": "stdout",
     "output_type": "stream",
     "text": [
      "Status Code: 200\n",
      "Response Body: {'prediction': 0}\n"
     ]
    }
   ],
   "source": [
    "%run test_api.py"
   ]
  },
  {
   "cell_type": "code",
   "execution_count": 46,
   "metadata": {},
   "outputs": [
    {
     "name": "stdout",
     "output_type": "stream",
     "text": [
      "Overwriting dummy.csv\n"
     ]
    }
   ],
   "source": [
    "%%writefile dummy.csv\n",
    "1.799e+01,1.038e+01,1.228e+02,1.001e+03,1.184e-01,2.776e-01,3.001e-01,1.471e-01,2.419e-01,7.871e-02,1.095e+00,9.053e-01,8.589e+00,1.534e+02,6.399e-03,4.904e-02,5.373e-02,1.587e-02,3.003e-02,6.193e-03,2.538e+01,1.733e+01,1.846e+02,2.019e+03,1.622e-01,6.656e-01,7.119e-01,2.654e-01,4.601e-01,1.189e-01"
   ]
  },
  {
   "cell_type": "code",
   "execution_count": 47,
   "metadata": {},
   "outputs": [
    {
     "name": "stdout",
     "output_type": "stream",
     "text": [
      "Overwriting test_api_csv.py\n"
     ]
    }
   ],
   "source": [
    "%%writefile test_api_csv.py\n",
    "import requests\n",
    "import json\n",
    "import pandas as pd\n",
    "\n",
    "# Define the API endpoint\n",
    "url = \"http://127.0.0.1:8000/predict/\"\n",
    "\n",
    "# Read data from dummy.csv using pandas\n",
    "try:\n",
    "  data = pd.read_csv(\"dummy.csv\", header=None).values.tolist()\n",
    "except FileNotFoundError:\n",
    "  print(\"Error: File 'dummy.csv' not found. Please ensure the file exists.\")\n",
    "  exit(1)\n",
    "\n",
    "# Ensure data contains 30 features\n",
    "if len(data[0]) != 30:\n",
    "  print(\"Error: 'dummy.csv' does not contain 30 features. Please check the file format.\")\n",
    "  exit(1)\n",
    "\n",
    "# Convert data to a list of floats (assuming each row has 30 features)\n",
    "data = [float(value) for value in data[0]]  # Access the first row\n",
    "\n",
    "# Prepare data dictionary\n",
    "data = {\n",
    "  \"features\": data\n",
    "}\n",
    "\n",
    "# Send a POST request\n",
    "response = requests.post(url, json=data)\n",
    "\n",
    "# Print the response\n",
    "print(\"Status Code:\", response.status_code)\n",
    "print(\"Response Body:\", response.json())\n"
   ]
  },
  {
   "cell_type": "code",
   "execution_count": 48,
   "metadata": {},
   "outputs": [
    {
     "name": "stdout",
     "output_type": "stream",
     "text": [
      "Status Code: 200\n",
      "Response Body: {'prediction': 0}\n"
     ]
    }
   ],
   "source": [
    "%run test_api_csv.py"
   ]
  },
  {
   "cell_type": "markdown",
   "metadata": {},
   "source": [
    "### Expected Output:\n",
    "* **Status Code**: \n",
    "  * 200 indicates that the HTTP request was successfully received, understood, and processed by the server.\n",
    "* **Response Body**: \n",
    "  * This part will show the prediction result returned by the machine learning model. \n",
    "  * In this case, 0 indicates \"no cancer detected\" (depending on how the labels are encoded)."
   ]
  },
  {
   "cell_type": "markdown",
   "metadata": {},
   "source": [
    "## Step 6: Stop the Uvicorn server\n",
    "If you no longer need the Uvicorn server, press `CTRL+C` in the Terminal window to stop the server. For macOS, press `CMD+C` in the Terminal window. \n"
   ]
  }
 ],
 "metadata": {
  "kernelspec": {
   "display_name": "ace",
   "language": "python",
   "name": "python3"
  },
  "language_info": {
   "codemirror_mode": {
    "name": "ipython",
    "version": 3
   },
   "file_extension": ".py",
   "mimetype": "text/x-python",
   "name": "python",
   "nbconvert_exporter": "python",
   "pygments_lexer": "ipython3",
   "version": "3.12.3"
  }
 },
 "nbformat": 4,
 "nbformat_minor": 2
}
