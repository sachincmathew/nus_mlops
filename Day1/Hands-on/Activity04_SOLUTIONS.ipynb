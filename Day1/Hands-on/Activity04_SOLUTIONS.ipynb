{
 "cells": [
  {
   "cell_type": "markdown",
   "metadata": {},
   "source": [
    "# Hands-On Activity: Support Vector Machines (SVM) for Breast Cancer Classification\n",
    "\n",
    "---\n",
    "\n",
    "### Introduction:\n",
    "Today, we'll dive into the world of Support Vector Machines (SVM) and explore their application in classifying breast cancer using the popular Breast Cancer dataset. We'll be using Python and the scikit-learn library for this hands-on activity.\n",
    "\n",
    "### Instructions:\n",
    "Follow the prompts below to complete each step of the activity. Make sure to understand the significance of the C value in SVM and how it influences the model's performance.\n",
    "\n",
    "### Step 1: Importing Libraries\n",
    "\n",
    "In this step, we import essential libraries. Familiarize yourself with the libraries we'll be using throughout the activity."
   ]
  },
  {
   "cell_type": "code",
   "execution_count": 1,
   "metadata": {},
   "outputs": [],
   "source": [
    "# Importing required libraries\n",
    "import pandas as pd\n",
    "from sklearn import datasets\n",
    "from sklearn.model_selection import GridSearchCV\n",
    "from sklearn.preprocessing import StandardScaler\n",
    "from sklearn.svm import SVC\n",
    "from sklearn.metrics import accuracy_score, classification_report"
   ]
  },
  {
   "cell_type": "markdown",
   "metadata": {},
   "source": [
    "### Step 2: Load and Prepare the Data\n",
    "\n",
    "In this step, we load the Breast Cancer dataset and prepare it for training. Examine the structure of the dataset and understand how we split it into features (X) and target (y). Standardizing the data is crucial for SVMs—why do you think we do this?"
   ]
  },
  {
   "cell_type": "code",
   "execution_count": 2,
   "metadata": {},
   "outputs": [],
   "source": [
    "# Load the Breast Cancer dataset into a Pandas DataFrame\n",
    "cancer = datasets.load_breast_cancer()\n",
    "data = pd.DataFrame(data=cancer.data, columns=cancer.feature_names)\n",
    "data['target'] = cancer.target\n",
    "\n",
    "# Split the data into features (X) and target (y)\n",
    "X = data.drop('target', axis=1)\n",
    "y = data['target']\n",
    "\n",
    "\n",
    "# Standardize the data\n",
    "scaler = StandardScaler()\n",
    "X_scaled = scaler.fit_transform(X)"
   ]
  },
  {
   "cell_type": "markdown",
   "metadata": {},
   "source": [
    "### Step 3: Understanding the C value in SVM\n",
    "\n",
    "Take a moment to read the explanation about the C value. What does a higher C value emphasize? And what about a lower C value? How does the C value affect the trade-off between training error and margin?\n",
    "\n",
    "#### C value in SVM\n",
    "\n",
    "The C value in SVM is a hyperparameter that controls the trade-off between the training error and the margin. The C value determines how much the SVM algorithm is allowed to deviate from the training data in order to find a hyperplane with a wider margin. , while \n",
    "\n",
    "* A higher C value places more emphasis on minimizing the training error, potentially resulting in a narrower margin. \n",
    "  * If the C value is too high, the model may overfit the training data and perform poorly on new, unseen data.\n",
    "* A lower C value places more emphasis on maximizing the margin, even if it means allowing more misclassifications during training.\n",
    "  * If the C value is too low, the model may not be able to learn the underlying pattern in the data and may perform poorly on both the training and test data."
   ]
  },
  {
   "cell_type": "markdown",
   "metadata": {},
   "source": [
    "### Step 4: Build an SVM Classifier with GridSearchCV\n",
    "\n",
    "Here, we start building our SVM classifier. Explore the hyperparameters used in GridSearchCV. What values are we trying for the C parameter, and what are the available kernel options? What does GridSearchCV do, and why is it valuable in hyperparameter tuning?"
   ]
  },
  {
   "cell_type": "code",
   "execution_count": 3,
   "metadata": {},
   "outputs": [
    {
     "name": "stdout",
     "output_type": "stream",
     "text": [
      "Best Parameters: {'C': 10, 'kernel': 'rbf'}\n"
     ]
    }
   ],
   "source": [
    "# Build an SVM classifier with GridSearchCV\n",
    "param_grid = {'C': [0.1, 1, 10, 100], \n",
    "              'kernel': ['linear', 'rbf']}\n",
    "\n",
    "svm_classifier = SVC()\n",
    "\n",
    "grid_search = GridSearchCV(svm_classifier, param_grid, cv=5, scoring='accuracy')\n",
    "grid_search.fit(X_scaled, y)\n",
    "\n",
    "# Print the best parameters found by GridSearchCV\n",
    "print(\"Best Parameters:\", grid_search.best_params_)\n"
   ]
  },
  {
   "cell_type": "markdown",
   "metadata": {},
   "source": [
    "### Step 5: Make Predictions and Evaluate the Model\n",
    "\n",
    "In the final step, we make predictions using our trained model and evaluate its performance. What metrics are we using to evaluate the model? How accurate is our model, and what insights can you draw from the classification report?"
   ]
  },
  {
   "cell_type": "code",
   "execution_count": 4,
   "metadata": {},
   "outputs": [
    {
     "name": "stdout",
     "output_type": "stream",
     "text": [
      "Accuracy: 0.9912126537785588\n",
      "Classification Report:\n",
      "               precision    recall  f1-score   support\n",
      "\n",
      "           0       1.00      0.98      0.99       212\n",
      "           1       0.99      1.00      0.99       357\n",
      "\n",
      "    accuracy                           0.99       569\n",
      "   macro avg       0.99      0.99      0.99       569\n",
      "weighted avg       0.99      0.99      0.99       569\n",
      "\n"
     ]
    }
   ],
   "source": [
    "# Make predictions using the best model\n",
    "y_pred = grid_search.predict(X_scaled)\n",
    "\n",
    "# Evaluate the model\n",
    "accuracy = accuracy_score(y, y_pred)\n",
    "report = classification_report(y, y_pred)\n",
    "\n",
    "print(f\"Accuracy: {accuracy}\")\n",
    "print(\"Classification Report:\\n\", report)\n"
   ]
  }
 ],
 "metadata": {
  "kernelspec": {
   "display_name": "Python 3",
   "language": "python",
   "name": "python3"
  },
  "language_info": {
   "codemirror_mode": {
    "name": "ipython",
    "version": 3
   },
   "file_extension": ".py",
   "mimetype": "text/x-python",
   "name": "python",
   "nbconvert_exporter": "python",
   "pygments_lexer": "ipython3",
   "version": "3.12.3"
  }
 },
 "nbformat": 4,
 "nbformat_minor": 2
}
