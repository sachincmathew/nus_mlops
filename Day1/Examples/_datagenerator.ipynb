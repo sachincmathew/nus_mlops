{
 "cells": [
  {
   "cell_type": "code",
   "execution_count": 2,
   "metadata": {},
   "outputs": [],
   "source": [
    "import csv\n",
    "import random\n",
    "\n",
    "# Define column names\n",
    "columns = [\"ID\", \"Age\", \"Income\", \"Height\", \"Weight\", \"Region\"]\n",
    "\n",
    "# Define number of rows\n",
    "num_rows = 900\n",
    "\n",
    "# Generate random data\n",
    "data = []\n",
    "for _ in range(num_rows):\n",
    "    row = [\n",
    "        random.randint(1000, 9999),  # ID (random 4-digit number)\n",
    "        random.randint(18, 80),       # Age (random integer between 18 and 80)\n",
    "        round(random.uniform(20000, 150000), 2),  # Income (random float between 20000 and 150000)\n",
    "        round(random.uniform(140, 200), 2),       # Height (random float between 140 and 200)\n",
    "        round(random.uniform(40, 150), 2),        # Weight (random float between 40 and 150)\n",
    "        random.choice([\"North\", \"South\", \"East\", \"West\"])  # Region (random choice from given regions)\n",
    "    ]\n",
    "    data.append(row)\n",
    "\n",
    "# Write data to CSV file\n",
    "with open(\"random_data.csv\", \"w\", newline=\"\") as csvfile:\n",
    "    writer = csv.writer(csvfile)\n",
    "    writer.writerow(columns)  # Write column names\n",
    "    writer.writerows(data)    # Write data rows"
   ]
  }
 ],
 "metadata": {
  "kernelspec": {
   "display_name": "Python 3",
   "language": "python",
   "name": "python3"
  },
  "language_info": {
   "codemirror_mode": {
    "name": "ipython",
    "version": 3
   },
   "file_extension": ".py",
   "mimetype": "text/x-python",
   "name": "python",
   "nbconvert_exporter": "python",
   "pygments_lexer": "ipython3",
   "version": "3.12.3"
  }
 },
 "nbformat": 4,
 "nbformat_minor": 2
}
